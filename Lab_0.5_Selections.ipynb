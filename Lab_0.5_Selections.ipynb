{
 "cells": [
  {
   "cell_type": "code",
   "execution_count": 1,
   "id": "1900326d-63bb-4715-b4d9-c1cac4b7c80c",
   "metadata": {},
   "outputs": [],
   "source": [
    "#0.5.14 -- Triple Comprehension\n",
    "S={-4,-2,0,1,2,5}"
   ]
  },
  {
   "cell_type": "code",
   "execution_count": 2,
   "id": "787533ea-6d07-4b79-99a0-8181cf322205",
   "metadata": {},
   "outputs": [],
   "source": [
    "#Looped Variation\n",
    "t=[]\n",
    "for i in S:\n",
    "    for j in S:\n",
    "        for k in S:\n",
    "            if (i!=0 or j!=0 or k!=0) and i+j+k==0:\n",
    "                t.append((i,j,k))\n",
    "                "
   ]
  },
  {
   "cell_type": "code",
   "execution_count": 3,
   "id": "0f3d6ed0-d25d-44a9-971e-b32a947068d1",
   "metadata": {},
   "outputs": [
    {
     "data": {
      "text/plain": [
       "[(0, 2, -2),\n",
       " (0, -2, 2),\n",
       " (1, 1, -2),\n",
       " (1, -2, 1),\n",
       " (2, 0, -2),\n",
       " (2, 2, -4),\n",
       " (2, -4, 2),\n",
       " (2, -2, 0),\n",
       " (-4, 2, 2),\n",
       " (-2, 0, 2),\n",
       " (-2, 1, 1),\n",
       " (-2, 2, 0)]"
      ]
     },
     "execution_count": 3,
     "metadata": {},
     "output_type": "execute_result"
    }
   ],
   "source": [
    "t"
   ]
  },
  {
   "cell_type": "code",
   "execution_count": 4,
   "id": "69076f4a-5232-4d24-8e5f-da859d277eb3",
   "metadata": {},
   "outputs": [
    {
     "data": {
      "text/plain": [
       "[(0, 2, -2),\n",
       " (0, -2, 2),\n",
       " (1, 1, -2),\n",
       " (1, -2, 1),\n",
       " (2, 0, -2),\n",
       " (2, 2, -4),\n",
       " (2, -4, 2),\n",
       " (2, -2, 0),\n",
       " (-4, 2, 2),\n",
       " (-2, 0, 2),\n",
       " (-2, 1, 1),\n",
       " (-2, 2, 0)]"
      ]
     },
     "execution_count": 4,
     "metadata": {},
     "output_type": "execute_result"
    }
   ],
   "source": [
    "#Comprehension Variation\n",
    "[(i,j,k) for i in S for j in S for k in S if i+j+k==0 and (i!=0 or j!=0 or k!=0)]"
   ]
  },
  {
   "cell_type": "code",
   "execution_count": 5,
   "id": "9253f602-35e2-42c1-a331-8698a008e5f4",
   "metadata": {},
   "outputs": [],
   "source": [
    "#0.5.19 -- Basic Zip\n",
    "#L=['A','B','C','D','E']\n",
    "L='ABCDE'"
   ]
  },
  {
   "cell_type": "code",
   "execution_count": 6,
   "id": "b81e93b2-a45e-4735-a3df-e79a57ee7038",
   "metadata": {},
   "outputs": [
    {
     "data": {
      "text/plain": [
       "[('A', 0), ('B', 1), ('C', 2), ('D', 3), ('E', 4)]"
      ]
     },
     "execution_count": 6,
     "metadata": {},
     "output_type": "execute_result"
    }
   ],
   "source": [
    "list(zip(L, range(5)))\n",
    "     "
   ]
  },
  {
   "cell_type": "code",
   "execution_count": 7,
   "id": "d07e8fc3-1067-46b9-a744-d84e1a490161",
   "metadata": {},
   "outputs": [],
   "source": [
    "#0.5.20 -- Compresion Zip\n",
    "X=[10, 25, 40]\n",
    "Y=[1, 15, 20]"
   ]
  },
  {
   "cell_type": "code",
   "execution_count": 8,
   "id": "fce9e431-6c36-4e08-8575-136e52ef393a",
   "metadata": {},
   "outputs": [
    {
     "data": {
      "text/plain": [
       "[11, 40, 60]"
      ]
     },
     "execution_count": 8,
     "metadata": {},
     "output_type": "execute_result"
    }
   ],
   "source": [
    "[sum(x) for x in zip(X,Y)]"
   ]
  },
  {
   "cell_type": "code",
   "execution_count": 9,
   "id": "05a8b418-f475-4f7d-9aef-24302ab1348d",
   "metadata": {},
   "outputs": [],
   "source": [
    "#0.5.21  -- Dictionary\n",
    "dlist = [{'James':'Sean', 'director':'Terence'},{'James':'Roger', 'director':'Lewis'}, {'James':'Pierce', 'director':'Roger'}]"
   ]
  },
  {
   "cell_type": "code",
   "execution_count": 10,
   "id": "3b24f0f3-b59f-476e-b4ae-b092719f7038",
   "metadata": {},
   "outputs": [
    {
     "data": {
      "text/plain": [
       "['Sean', 'Roger', 'Pierce']"
      ]
     },
     "execution_count": 10,
     "metadata": {},
     "output_type": "execute_result"
    }
   ],
   "source": [
    "k = 'James'\n",
    "#k = 'director'\n",
    "[x[k] for x in dlist]"
   ]
  },
  {
   "cell_type": "code",
   "execution_count": 11,
   "id": "e0d57091-6000-44a2-9b14-10d3f8ba3e48",
   "metadata": {},
   "outputs": [],
   "source": [
    "#0.5.22 -- The Case of the Missing Key\n",
    "dlist1 = [{'Bilbo':'Ian', 'Frodo':'Elijah'},\n",
    "           {'Bilbo':'Martin', 'Thorin':'Richard'}]\n",
    "n = 'NOT PRESENT'"
   ]
  },
  {
   "cell_type": "code",
   "execution_count": 12,
   "id": "26b0d68f-a305-4dae-87df-8f0a55408b9d",
   "metadata": {},
   "outputs": [],
   "source": [
    "k = 'Frodo'"
   ]
  },
  {
   "cell_type": "code",
   "execution_count": 13,
   "id": "e95c9c01-a67f-4ee6-84d7-4aae5af330a4",
   "metadata": {},
   "outputs": [
    {
     "data": {
      "text/plain": [
       "['Elijah', 'NOT PRESENT']"
      ]
     },
     "execution_count": 13,
     "metadata": {},
     "output_type": "execute_result"
    }
   ],
   "source": [
    "[x[k] if k in x else n for x in dlist1 ]"
   ]
  },
  {
   "cell_type": "code",
   "execution_count": 14,
   "id": "7b1a5c21-b49f-471f-8999-dbab05b5f60e",
   "metadata": {},
   "outputs": [
    {
     "data": {
      "text/plain": [
       "{0: 0, 1: 1, 2: 4, 3: 9}"
      ]
     },
     "execution_count": 14,
     "metadata": {},
     "output_type": "execute_result"
    }
   ],
   "source": [
    "#0.5.23 -- Dictionary Comprehensions\n",
    "{x:x**2 for x in range(4)}"
   ]
  },
  {
   "cell_type": "code",
   "execution_count": 15,
   "id": "e9b97a40-be97-4088-b79c-d2c0faa18e30",
   "metadata": {},
   "outputs": [],
   "source": [
    "#0.5.25 -- Given base = 10 and digits = set(range(10)), \n",
    "# write a dictionary comprehension that maps each integer from 0-999 \n",
    "# to the list of three digits that represents that integer base 10.\n",
    "\n",
    "# Modification: we will use base 3:\n",
    "# 0: [0,0,0], 1: [0,0,1], 2: [0,0,2], ... 26: [2,2,2]"
   ]
  },
  {
   "cell_type": "code",
   "execution_count": 16,
   "id": "b9ddd25b-3010-4023-919d-97e17120db12",
   "metadata": {},
   "outputs": [],
   "source": [
    "base = 3\n",
    "digits = set(range(base))"
   ]
  },
  {
   "cell_type": "code",
   "execution_count": 17,
   "id": "3316c6eb-40b3-474a-8087-1cb39b5faa44",
   "metadata": {},
   "outputs": [],
   "source": [
    "#{ k:v for (k,v) in [(3,2),(4,0),(100,1)]}  >>  {3: 2, 4: 0, 100: 1}\n",
    "#{k:v for k in [1,2,3] for v in ['a','b','c']}  >>  {1: 'c', 2:'c', 3: 'c'}\n",
    "#{k:v for (k,v) in list(zip([1,2,3],['a','b','c']))}  >>  {1: 'a', 2: 'b', 3: 'c'}"
   ]
  },
  {
   "cell_type": "code",
   "execution_count": 18,
   "id": "75a0e992-885f-4933-acbb-fb6e6bb95837",
   "metadata": {},
   "outputs": [],
   "source": [
    "# I need {k:v for (k,v) in zip([    ],[    ])}"
   ]
  },
  {
   "cell_type": "code",
   "execution_count": 19,
   "id": "71f8ae62-69bb-4216-85de-cea5642d99e2",
   "metadata": {},
   "outputs": [
    {
     "data": {
      "text/plain": [
       "[0,\n",
       " 1,\n",
       " 2,\n",
       " 3,\n",
       " 4,\n",
       " 5,\n",
       " 6,\n",
       " 7,\n",
       " 8,\n",
       " 9,\n",
       " 10,\n",
       " 11,\n",
       " 12,\n",
       " 13,\n",
       " 14,\n",
       " 15,\n",
       " 16,\n",
       " 17,\n",
       " 18,\n",
       " 19,\n",
       " 20,\n",
       " 21,\n",
       " 22,\n",
       " 23,\n",
       " 24,\n",
       " 25,\n",
       " 26]"
      ]
     },
     "execution_count": 19,
     "metadata": {},
     "output_type": "execute_result"
    }
   ],
   "source": [
    "list(range((base-1)*(base**0+base**1+base**2)+1))"
   ]
  },
  {
   "cell_type": "code",
   "execution_count": 20,
   "id": "484f926d-0567-4528-9201-eb12c1ac21d0",
   "metadata": {},
   "outputs": [
    {
     "data": {
      "text/plain": [
       "[[1, 2, 3], [4, 5, 6], [7, 8, 9]]"
      ]
     },
     "execution_count": 20,
     "metadata": {},
     "output_type": "execute_result"
    }
   ],
   "source": [
    "list([x,y,z] for (x,y,z) in [(1,2,3),(4,5,6),(7,8,9)])"
   ]
  },
  {
   "cell_type": "code",
   "execution_count": 21,
   "id": "7fd470ca-10d5-4434-8938-5777b799696c",
   "metadata": {},
   "outputs": [],
   "source": [
    "#need something that returns [(0,0,1),(0,0,2).....]"
   ]
  },
  {
   "cell_type": "code",
   "execution_count": 22,
   "id": "61325f41-9cfd-42e0-8737-926fae98f6cd",
   "metadata": {},
   "outputs": [
    {
     "data": {
      "text/plain": [
       "[[0, 0, 0],\n",
       " [0, 0, 1],\n",
       " [0, 0, 2],\n",
       " [0, 1, 0],\n",
       " [0, 1, 1],\n",
       " [0, 1, 2],\n",
       " [0, 2, 0],\n",
       " [0, 2, 1],\n",
       " [0, 2, 2],\n",
       " [1, 0, 0],\n",
       " [1, 0, 1],\n",
       " [1, 0, 2],\n",
       " [1, 1, 0],\n",
       " [1, 1, 1],\n",
       " [1, 1, 2],\n",
       " [1, 2, 0],\n",
       " [1, 2, 1],\n",
       " [1, 2, 2],\n",
       " [2, 0, 0],\n",
       " [2, 0, 1],\n",
       " [2, 0, 2],\n",
       " [2, 1, 0],\n",
       " [2, 1, 1],\n",
       " [2, 1, 2],\n",
       " [2, 2, 0],\n",
       " [2, 2, 1],\n",
       " [2, 2, 2]]"
      ]
     },
     "execution_count": 22,
     "metadata": {},
     "output_type": "execute_result"
    }
   ],
   "source": [
    "list([x,y,z] for x in digits for y in digits for z in digits)"
   ]
  },
  {
   "cell_type": "code",
   "execution_count": 23,
   "id": "1b7b6323-b8e9-4403-b5f3-7fc1c4870bcf",
   "metadata": {},
   "outputs": [
    {
     "data": {
      "text/plain": [
       "{0: [0, 0, 0],\n",
       " 1: [0, 0, 1],\n",
       " 2: [0, 0, 2],\n",
       " 3: [0, 1, 0],\n",
       " 4: [0, 1, 1],\n",
       " 5: [0, 1, 2],\n",
       " 6: [0, 2, 0],\n",
       " 7: [0, 2, 1],\n",
       " 8: [0, 2, 2],\n",
       " 9: [1, 0, 0],\n",
       " 10: [1, 0, 1],\n",
       " 11: [1, 0, 2],\n",
       " 12: [1, 1, 0],\n",
       " 13: [1, 1, 1],\n",
       " 14: [1, 1, 2],\n",
       " 15: [1, 2, 0],\n",
       " 16: [1, 2, 1],\n",
       " 17: [1, 2, 2],\n",
       " 18: [2, 0, 0],\n",
       " 19: [2, 0, 1],\n",
       " 20: [2, 0, 2],\n",
       " 21: [2, 1, 0],\n",
       " 22: [2, 1, 1],\n",
       " 23: [2, 1, 2],\n",
       " 24: [2, 2, 0],\n",
       " 25: [2, 2, 1],\n",
       " 26: [2, 2, 2]}"
      ]
     },
     "execution_count": 23,
     "metadata": {},
     "output_type": "execute_result"
    }
   ],
   "source": [
    "{k:v for (k,v) in zip(list(range((base-1)*(base**0+base**1+base**2)+1))\\\n",
    "                      ,list([x,y,z] for x in digits for y in digits for z in digits))}"
   ]
  },
  {
   "cell_type": "code",
   "execution_count": null,
   "id": "c752fb48-8de6-4d5d-ba92-aa0a2445b4df",
   "metadata": {},
   "outputs": [],
   "source": []
  }
 ],
 "metadata": {
  "kernelspec": {
   "display_name": "Python 3 (ipykernel)",
   "language": "python",
   "name": "python3"
  },
  "language_info": {
   "codemirror_mode": {
    "name": "ipython",
    "version": 3
   },
   "file_extension": ".py",
   "mimetype": "text/x-python",
   "name": "python",
   "nbconvert_exporter": "python",
   "pygments_lexer": "ipython3",
   "version": "3.9.2"
  }
 },
 "nbformat": 4,
 "nbformat_minor": 5
}
