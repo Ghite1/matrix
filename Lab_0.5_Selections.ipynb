{
 "cells": [
  {
   "cell_type": "code",
   "execution_count": 12,
   "id": "1900326d-63bb-4715-b4d9-c1cac4b7c80c",
   "metadata": {},
   "outputs": [],
   "source": [
    "#0.5.14--Triple Comprehension\n",
    "S={-4,-2,0,1,2,5}"
   ]
  },
  {
   "cell_type": "code",
   "execution_count": 13,
   "id": "787533ea-6d07-4b79-99a0-8181cf322205",
   "metadata": {},
   "outputs": [],
   "source": [
    "#Looped Variation\n",
    "t=[]\n",
    "for i in S:\n",
    "    for j in S:\n",
    "        for k in S:\n",
    "            if (i!=0 or j!=0 or k!=0) and i+j+k==0:\n",
    "                t.append((i,j,k))\n",
    "                "
   ]
  },
  {
   "cell_type": "code",
   "execution_count": 8,
   "id": "0f3d6ed0-d25d-44a9-971e-b32a947068d1",
   "metadata": {},
   "outputs": [
    {
     "data": {
      "text/plain": [
       "[(0, 2, -2),\n",
       " (0, -2, 2),\n",
       " (1, 1, -2),\n",
       " (1, -2, 1),\n",
       " (2, 0, -2),\n",
       " (2, 2, -4),\n",
       " (2, -4, 2),\n",
       " (2, -2, 0),\n",
       " (-4, 2, 2),\n",
       " (-2, 0, 2),\n",
       " (-2, 1, 1),\n",
       " (-2, 2, 0)]"
      ]
     },
     "execution_count": 8,
     "metadata": {},
     "output_type": "execute_result"
    }
   ],
   "source": [
    "t"
   ]
  },
  {
   "cell_type": "code",
   "execution_count": 14,
   "id": "69076f4a-5232-4d24-8e5f-da859d277eb3",
   "metadata": {},
   "outputs": [
    {
     "data": {
      "text/plain": [
       "[(0, 2, -2),\n",
       " (0, -2, 2),\n",
       " (1, 1, -2),\n",
       " (1, -2, 1),\n",
       " (2, 0, -2),\n",
       " (2, 2, -4),\n",
       " (2, -4, 2),\n",
       " (2, -2, 0),\n",
       " (-4, 2, 2),\n",
       " (-2, 0, 2),\n",
       " (-2, 1, 1),\n",
       " (-2, 2, 0)]"
      ]
     },
     "execution_count": 14,
     "metadata": {},
     "output_type": "execute_result"
    }
   ],
   "source": [
    "#Comprehension Variation\n",
    "[(i,j,k) for i in S for j in S for k in S if i+j+k==0 and (i!=0 or j!=0 or k!=0)]"
   ]
  },
  {
   "cell_type": "code",
   "execution_count": 22,
   "id": "9253f602-35e2-42c1-a331-8698a008e5f4",
   "metadata": {},
   "outputs": [],
   "source": [
    "#0.5.19 -- Basic Zip\n",
    "#L=['A','B','C','D','E']\n",
    "L='ABCDE'"
   ]
  },
  {
   "cell_type": "code",
   "execution_count": 23,
   "id": "b81e93b2-a45e-4735-a3df-e79a57ee7038",
   "metadata": {},
   "outputs": [
    {
     "data": {
      "text/plain": [
       "[('A', 0), ('B', 1), ('C', 2), ('D', 3), ('E', 4)]"
      ]
     },
     "execution_count": 23,
     "metadata": {},
     "output_type": "execute_result"
    }
   ],
   "source": [
    "list(zip(L, range(5)))\n",
    "     "
   ]
  },
  {
   "cell_type": "code",
   "execution_count": 24,
   "id": "d07e8fc3-1067-46b9-a744-d84e1a490161",
   "metadata": {},
   "outputs": [],
   "source": [
    "#0.5.20 -- Compresion Zip\n",
    "X=[10, 25, 40]\n",
    "Y=[1, 15, 20]"
   ]
  },
  {
   "cell_type": "code",
   "execution_count": 26,
   "id": "fce9e431-6c36-4e08-8575-136e52ef393a",
   "metadata": {},
   "outputs": [
    {
     "data": {
      "text/plain": [
       "[11, 40, 60]"
      ]
     },
     "execution_count": 26,
     "metadata": {},
     "output_type": "execute_result"
    }
   ],
   "source": [
    "[sum(x) for x in zip(X,Y)]"
   ]
  },
  {
   "cell_type": "code",
   "execution_count": 1,
   "id": "05a8b418-f475-4f7d-9aef-24302ab1348d",
   "metadata": {},
   "outputs": [],
   "source": [
    "#0.5.21  -- Dictionary\n",
    "dlist = [{'James':'Sean', 'director':'Terence'},{'James':'Roger', 'director':'Lewis'}, {'James':'Pierce', 'director':'Roger'}]"
   ]
  },
  {
   "cell_type": "code",
   "execution_count": 4,
   "id": "3b24f0f3-b59f-476e-b4ae-b092719f7038",
   "metadata": {},
   "outputs": [
    {
     "data": {
      "text/plain": [
       "['Sean', 'Roger', 'Pierce']"
      ]
     },
     "execution_count": 4,
     "metadata": {},
     "output_type": "execute_result"
    }
   ],
   "source": [
    "k = 'James'\n",
    "#k = 'director'\n",
    "[x[k] for x in dlist]"
   ]
  },
  {
   "cell_type": "code",
   "execution_count": 8,
   "id": "e0d57091-6000-44a2-9b14-10d3f8ba3e48",
   "metadata": {},
   "outputs": [],
   "source": [
    "#0.5.22 -- The Case of the Missing Key\n",
    "dlist1 = [{'Bilbo':'Ian', 'Frodo':'Elijah'},\n",
    "           {'Bilbo':'Martin', 'Thorin':'Richard'}]\n",
    "n = 'NOT PRESENT'"
   ]
  },
  {
   "cell_type": "code",
   "execution_count": 25,
   "id": "26b0d68f-a305-4dae-87df-8f0a55408b9d",
   "metadata": {},
   "outputs": [],
   "source": [
    "k = 'Frodo'"
   ]
  },
  {
   "cell_type": "code",
   "execution_count": 31,
   "id": "e95c9c01-a67f-4ee6-84d7-4aae5af330a4",
   "metadata": {},
   "outputs": [
    {
     "data": {
      "text/plain": [
       "['Elijah', 'NOT PRESENT']"
      ]
     },
     "execution_count": 31,
     "metadata": {},
     "output_type": "execute_result"
    }
   ],
   "source": [
    "[x[k] if k in x else n for x in dlist1 ]"
   ]
  },
  {
   "cell_type": "code",
   "execution_count": null,
   "id": "7b1a5c21-b49f-471f-8999-dbab05b5f60e",
   "metadata": {},
   "outputs": [],
   "source": []
  }
 ],
 "metadata": {
  "kernelspec": {
   "display_name": "Python 3 (ipykernel)",
   "language": "python",
   "name": "python3"
  },
  "language_info": {
   "codemirror_mode": {
    "name": "ipython",
    "version": 3
   },
   "file_extension": ".py",
   "mimetype": "text/x-python",
   "name": "python",
   "nbconvert_exporter": "python",
   "pygments_lexer": "ipython3",
   "version": "3.9.2"
  }
 },
 "nbformat": 4,
 "nbformat_minor": 5
}
