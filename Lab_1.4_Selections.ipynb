{
 "cells": [
  {
   "cell_type": "code",
   "execution_count": 1,
   "id": "352712d3-4004-4720-ad55-e2df8a562978",
   "metadata": {},
   "outputs": [],
   "source": [
    "S = [2+2j, 3+2j, 1.75+1j, 2+1j, 2.25+1j, 2.5+1j, 2.75+1j, 3+1j, 5.25+1j]"
   ]
  },
  {
   "cell_type": "code",
   "execution_count": 2,
   "id": "6aaca5f6-8ce6-4bd1-8f45-5c106e2f6037",
   "metadata": {},
   "outputs": [],
   "source": [
    "from plotting import plot"
   ]
  },
  {
   "cell_type": "code",
   "execution_count": 3,
   "id": "2b6d9aa2-38e4-4729-856b-8742cb0b84bb",
   "metadata": {},
   "outputs": [],
   "source": [
    "plot(S, 4)"
   ]
  },
  {
   "cell_type": "code",
   "execution_count": null,
   "id": "045f5333-c359-422d-8640-9aa2dd82a90f",
   "metadata": {},
   "outputs": [],
   "source": []
  }
 ],
 "metadata": {
  "kernelspec": {
   "display_name": "Python 3 (ipykernel)",
   "language": "python",
   "name": "python3"
  },
  "language_info": {
   "codemirror_mode": {
    "name": "ipython",
    "version": 3
   },
   "file_extension": ".py",
   "mimetype": "text/x-python",
   "name": "python",
   "nbconvert_exporter": "python",
   "pygments_lexer": "ipython3",
   "version": "3.9.2"
  }
 },
 "nbformat": 4,
 "nbformat_minor": 5
}
