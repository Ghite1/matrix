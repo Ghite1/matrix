{
 "cells": [
  {
   "cell_type": "code",
   "execution_count": 2,
   "id": "61d386ca-d708-4cb3-9858-ccef322dd710",
   "metadata": {},
   "outputs": [],
   "source": [
    "L = [1,2,5,6,7]"
   ]
  },
  {
   "cell_type": "code",
   "execution_count": 5,
   "id": "ac27a9d4-268c-4739-a58a-86473607390e",
   "metadata": {},
   "outputs": [
    {
     "data": {
      "text/plain": [
       "[2, 3, 6, 7, 8]"
      ]
     },
     "execution_count": 5,
     "metadata": {},
     "output_type": "execute_result"
    }
   ],
   "source": [
    "[i+1 for i in L]"
   ]
  },
  {
   "cell_type": "code",
   "execution_count": 7,
   "id": "656d9da7-3339-4a06-bb81-943629d37f0a",
   "metadata": {},
   "outputs": [
    {
     "data": {
      "text/plain": [
       "[1, 8, 125, 216, 343]"
      ]
     },
     "execution_count": 7,
     "metadata": {},
     "output_type": "execute_result"
    }
   ],
   "source": [
    "[i**3 for i in L]"
   ]
  },
  {
   "cell_type": "code",
   "execution_count": 4,
   "id": "c834dfbc-a747-49df-8a6b-b11363ada2e4",
   "metadata": {},
   "outputs": [],
   "source": [
    "A = [(1,2), (7,6)]\n",
    "B = [(0,9), (5,2)]\n",
    "# Returns: [(1,11),(12,8)] "
   ]
  },
  {
   "cell_type": "code",
   "execution_count": 52,
   "id": "bf5c1bb7-54f5-476e-b7e6-6b5a46c056f2",
   "metadata": {},
   "outputs": [],
   "source": [
    "def tuple_sum(A,B):\n",
    "    output = []\n",
    "    for i in range(len(A)):\n",
    "        output.append([])\n",
    "        #print([x for x in zip(A[i],B[i])])\n",
    "        for x in zip(A[i],B[i]):\n",
    "            output[i].append(sum(x))\n",
    "            #print(sum(x))\n",
    "    return output"
   ]
  },
  {
   "cell_type": "code",
   "execution_count": 53,
   "id": "96e92776-d58e-43f4-84f8-4ead80add96d",
   "metadata": {},
   "outputs": [
    {
     "data": {
      "text/plain": [
       "[[1, 11], [12, 8]]"
      ]
     },
     "execution_count": 53,
     "metadata": {},
     "output_type": "execute_result"
    }
   ],
   "source": [
    "tuple_sum(A,B)"
   ]
  }
 ],
 "metadata": {
  "kernelspec": {
   "display_name": "Python 3 (ipykernel)",
   "language": "python",
   "name": "python3"
  },
  "language_info": {
   "codemirror_mode": {
    "name": "ipython",
    "version": 3
   },
   "file_extension": ".py",
   "mimetype": "text/x-python",
   "name": "python",
   "nbconvert_exporter": "python",
   "pygments_lexer": "ipython3",
   "version": "3.9.2"
  }
 },
 "nbformat": 4,
 "nbformat_minor": 5
}
