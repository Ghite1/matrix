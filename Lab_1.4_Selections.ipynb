{
 "cells": [
  {
   "cell_type": "code",
   "execution_count": 20,
   "id": "78be5de0-d0a9-46cb-bef7-bbc8e2deb273",
   "metadata": {},
   "outputs": [],
   "source": [
    "from math import e, pi"
   ]
  },
  {
   "cell_type": "code",
   "execution_count": 2,
   "id": "6aaca5f6-8ce6-4bd1-8f45-5c106e2f6037",
   "metadata": {},
   "outputs": [],
   "source": [
    "from plotting import plot"
   ]
  },
  {
   "cell_type": "code",
   "execution_count": 5,
   "id": "352712d3-4004-4720-ad55-e2df8a562978",
   "metadata": {},
   "outputs": [],
   "source": [
    "S = [2+2j, 3+2j, 1.75+1j, 2+1j, 2.25+1j, 2.5+1j, 2.75+1j, 3+1j, 3.25+1j]"
   ]
  },
  {
   "cell_type": "code",
   "execution_count": 3,
   "id": "2b6d9aa2-38e4-4729-856b-8742cb0b84bb",
   "metadata": {},
   "outputs": [],
   "source": [
    "plot(S, 4)"
   ]
  },
  {
   "cell_type": "code",
   "execution_count": 11,
   "id": "045f5333-c359-422d-8640-9aa2dd82a90f",
   "metadata": {},
   "outputs": [],
   "source": [
    "#Translation\n",
    "plot({z - 2 - 2j for z in S}, 5)"
   ]
  },
  {
   "cell_type": "code",
   "execution_count": 8,
   "id": "d12eeea2-5c49-41ab-a74a-527b7d2682ca",
   "metadata": {},
   "outputs": [],
   "source": [
    "#Scaling\n",
    "plot({z/2 for z in S}, 4)"
   ]
  },
  {
   "cell_type": "code",
   "execution_count": 10,
   "id": "fbb9cc37-7b31-4c0e-819b-0f1ef954e97e",
   "metadata": {},
   "outputs": [],
   "source": [
    "#Rotation\n",
    "plot({-z for z in S}, 4)"
   ]
  },
  {
   "cell_type": "code",
   "execution_count": 19,
   "id": "325ca89f-5dc5-4fba-9384-f2eaca190c63",
   "metadata": {},
   "outputs": [],
   "source": [
    "#Rotation\n",
    "plot({(-1-1j)*z for z in S}, 10)"
   ]
  },
  {
   "cell_type": "code",
   "execution_count": 32,
   "id": "2984e566-d932-4303-9ea5-2a2607e2725b",
   "metadata": {},
   "outputs": [],
   "source": [
    "n = 100"
   ]
  },
  {
   "cell_type": "code",
   "execution_count": 33,
   "id": "17481f68-a006-43c7-b3bc-138602e818d2",
   "metadata": {},
   "outputs": [],
   "source": [
    "w = e**(2*pi*1j/n)"
   ]
  },
  {
   "cell_type": "code",
   "execution_count": 34,
   "id": "b6870eae-5fe2-40ad-9d57-70b7320aa4cb",
   "metadata": {},
   "outputs": [],
   "source": [
    "something = [w**x for x in range(n)]"
   ]
  },
  {
   "cell_type": "code",
   "execution_count": 36,
   "id": "8fea99d3-b478-45cc-a81a-0ccf05c8bc44",
   "metadata": {},
   "outputs": [],
   "source": [
    "plot(something, 2)"
   ]
  },
  {
   "cell_type": "code",
   "execution_count": null,
   "id": "10feb829-9a27-49ce-9e8d-d52303477243",
   "metadata": {},
   "outputs": [],
   "source": []
  }
 ],
 "metadata": {
  "kernelspec": {
   "display_name": "Python 3 (ipykernel)",
   "language": "python",
   "name": "python3"
  },
  "language_info": {
   "codemirror_mode": {
    "name": "ipython",
    "version": 3
   },
   "file_extension": ".py",
   "mimetype": "text/x-python",
   "name": "python",
   "nbconvert_exporter": "python",
   "pygments_lexer": "ipython3",
   "version": "3.9.2"
  }
 },
 "nbformat": 4,
 "nbformat_minor": 5
}
