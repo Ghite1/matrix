{
 "cells": [
  {
   "cell_type": "code",
   "execution_count": 9,
   "id": "e754e9d6-de2a-4099-9384-5dfab7ba7279",
   "metadata": {},
   "outputs": [],
   "source": [
    "from random import randint"
   ]
  },
  {
   "cell_type": "code",
   "execution_count": 8,
   "id": "aa4e4c53-4071-4163-bf65-4970607e2a34",
   "metadata": {},
   "outputs": [],
   "source": [
    "def swing(atk,blk,pwr,tou):\n",
    "    if randint(1,20)+atk>blk+randint(1,10):\n",
    "        return pwr+randint(0,10)-(tou+randint(0,5))\n",
    "    else: return 0"
   ]
  },
  {
   "cell_type": "code",
   "execution_count": 12,
   "id": "611727ab-ad38-44b9-8386-5000ca5086a1",
   "metadata": {},
   "outputs": [
    {
     "data": {
      "text/plain": [
       "6"
      ]
     },
     "execution_count": 12,
     "metadata": {},
     "output_type": "execute_result"
    }
   ],
   "source": [
    "swing(10,8,12,10)"
   ]
  },
  {
   "cell_type": "code",
   "execution_count": 188,
   "id": "8617a407-18f2-4315-862e-f552d300fa24",
   "metadata": {},
   "outputs": [],
   "source": [
    "def swingv2(C1,C2):\n",
    "    if randint(1,20)+C1[0]>C2[1]+randint(1,10):\n",
    "        U=C1[2]+randint(0,10)-(C2[3]+randint(0,5))\n",
    "        if U>0:\n",
    "            return U \n",
    "            if U>0:\n",
    "                C2[4]=C2[4]-U\n",
    "        else: return 0\n",
    "    else: return 0\n",
    "\n",
    "    # need to fix this line such that the damage dealt permanently reduces C2[4](health)"
   ]
  },
  {
   "cell_type": "code",
   "execution_count": 178,
   "id": "356c7978-7d3f-4585-ac22-1cbb3a14521b",
   "metadata": {},
   "outputs": [],
   "source": [
    "orc=[4,2,6,6,14]"
   ]
  },
  {
   "cell_type": "code",
   "execution_count": 189,
   "id": "d5afb388-9840-4545-b9e0-a4ff873aec23",
   "metadata": {},
   "outputs": [],
   "source": [
    "knight=[7,6,5,3,11]"
   ]
  },
  {
   "cell_type": "code",
   "execution_count": 191,
   "id": "8e98316b-45b8-45c8-92a5-58f45f843c09",
   "metadata": {},
   "outputs": [
    {
     "data": {
      "text/plain": [
       "8"
      ]
     },
     "execution_count": 191,
     "metadata": {},
     "output_type": "execute_result"
    }
   ],
   "source": [
    "swingv2(orc,knight)"
   ]
  },
  {
   "cell_type": "code",
   "execution_count": 192,
   "id": "bbec7904-75c7-4ef5-8b9c-5e16843ecc7c",
   "metadata": {},
   "outputs": [
    {
     "data": {
      "text/plain": [
       "[7, 6, 5, 3, 11]"
      ]
     },
     "execution_count": 192,
     "metadata": {},
     "output_type": "execute_result"
    }
   ],
   "source": [
    "knight"
   ]
  },
  {
   "cell_type": "code",
   "execution_count": 163,
   "id": "a246e1cf-c110-435f-a7bb-bc074ba0fd54",
   "metadata": {},
   "outputs": [],
   "source": [
    "def test(list): list[0]=list[0]-1"
   ]
  },
  {
   "cell_type": "code",
   "execution_count": 164,
   "id": "8191ca63-9c87-4026-9938-511160901481",
   "metadata": {},
   "outputs": [],
   "source": [
    "list=[1,2,3,4]"
   ]
  },
  {
   "cell_type": "code",
   "execution_count": 165,
   "id": "243fd003-2052-437c-84bb-2071183b8164",
   "metadata": {},
   "outputs": [],
   "source": [
    "test(list)"
   ]
  },
  {
   "cell_type": "code",
   "execution_count": 166,
   "id": "2dcffe45-3a48-4bfe-96c9-b8a42b194145",
   "metadata": {},
   "outputs": [
    {
     "data": {
      "text/plain": [
       "[0, 2, 3, 4]"
      ]
     },
     "execution_count": 166,
     "metadata": {},
     "output_type": "execute_result"
    }
   ],
   "source": [
    "list"
   ]
  }
 ],
 "metadata": {
  "kernelspec": {
   "display_name": "Python 3 (ipykernel)",
   "language": "python",
   "name": "python3"
  },
  "language_info": {
   "codemirror_mode": {
    "name": "ipython",
    "version": 3
   },
   "file_extension": ".py",
   "mimetype": "text/x-python",
   "name": "python",
   "nbconvert_exporter": "python",
   "pygments_lexer": "ipython3",
   "version": "3.9.2"
  }
 },
 "nbformat": 4,
 "nbformat_minor": 5
}
