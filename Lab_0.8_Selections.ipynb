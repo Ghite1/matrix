{
 "cells": [
  {
   "cell_type": "code",
   "execution_count": 1,
   "id": "61d386ca-d708-4cb3-9858-ccef322dd710",
   "metadata": {},
   "outputs": [],
   "source": [
    "L = [1,2,5,6,7]"
   ]
  },
  {
   "cell_type": "code",
   "execution_count": 2,
   "id": "ac27a9d4-268c-4739-a58a-86473607390e",
   "metadata": {},
   "outputs": [
    {
     "data": {
      "text/plain": [
       "[2, 3, 6, 7, 8]"
      ]
     },
     "execution_count": 2,
     "metadata": {},
     "output_type": "execute_result"
    }
   ],
   "source": [
    "[i+1 for i in L]"
   ]
  },
  {
   "cell_type": "code",
   "execution_count": 3,
   "id": "656d9da7-3339-4a06-bb81-943629d37f0a",
   "metadata": {},
   "outputs": [
    {
     "data": {
      "text/plain": [
       "[1, 8, 125, 216, 343]"
      ]
     },
     "execution_count": 3,
     "metadata": {},
     "output_type": "execute_result"
    }
   ],
   "source": [
    "[i**3 for i in L]"
   ]
  },
  {
   "cell_type": "code",
   "execution_count": 4,
   "id": "c834dfbc-a747-49df-8a6b-b11363ada2e4",
   "metadata": {},
   "outputs": [],
   "source": [
    "A = [(1,2), (7,6)]\n",
    "B = [(0,9), (5,2)]\n",
    "# Returns: [(1,11),(12,8)] "
   ]
  },
  {
   "cell_type": "code",
   "execution_count": 5,
   "id": "bf5c1bb7-54f5-476e-b7e6-6b5a46c056f2",
   "metadata": {},
   "outputs": [],
   "source": [
    "def tuple_sumFOR(A,B):\n",
    "    output = []\n",
    "    for i in range(len(A)):\n",
    "        output.append([])\n",
    "        for x in zip(A[i],B[i]):\n",
    "            output[i].append(sum(x))\n",
    "            #print(sum(x))\n",
    "    return output"
   ]
  },
  {
   "cell_type": "code",
   "execution_count": 7,
   "id": "96e92776-d58e-43f4-84f8-4ead80add96d",
   "metadata": {},
   "outputs": [
    {
     "data": {
      "text/plain": [
       "[[1, 11], [12, 8]]"
      ]
     },
     "execution_count": 7,
     "metadata": {},
     "output_type": "execute_result"
    }
   ],
   "source": [
    "tuple_sumFOR(A,B)"
   ]
  },
  {
   "cell_type": "code",
   "execution_count": 9,
   "id": "a4a1a788-6976-4516-9cbb-15aab4b1d887",
   "metadata": {},
   "outputs": [],
   "source": [
    "def tuple_sum(A,B):\n",
    "    return ([tuple(sum(x) for x in zip(A[i],B[i])) for i in range(len(A))])"
   ]
  },
  {
   "cell_type": "code",
   "execution_count": 10,
   "id": "b0b4d3a4-a38c-445c-b224-ea40947c5636",
   "metadata": {},
   "outputs": [
    {
     "data": {
      "text/plain": [
       "[(1, 11), (12, 8)]"
      ]
     },
     "execution_count": 10,
     "metadata": {},
     "output_type": "execute_result"
    }
   ],
   "source": [
    "tuple_sum(A,B)"
   ]
  },
  {
   "cell_type": "code",
   "execution_count": 21,
   "id": "197bbc8b-fdab-449a-80fe-f722d095893a",
   "metadata": {},
   "outputs": [],
   "source": [
    "def inv_dict(d):\n",
    "    return {k:v for (k,v) in zip(dict.values(), dict.keys())}"
   ]
  },
  {
   "cell_type": "code",
   "execution_count": 13,
   "id": "e3b5fbf7-8fad-47a0-b7cd-b13ab0ab5734",
   "metadata": {},
   "outputs": [],
   "source": [
    "dict = {'thank you': 'merci', 'goodbye': 'au revoir'}"
   ]
  },
  {
   "cell_type": "code",
   "execution_count": 22,
   "id": "ad7c6058-521c-4f1c-875f-3d8f5f8dfea8",
   "metadata": {},
   "outputs": [
    {
     "data": {
      "text/plain": [
       "{'merci': 'thank you', 'au revoir': 'goodbye'}"
      ]
     },
     "execution_count": 22,
     "metadata": {},
     "output_type": "execute_result"
    }
   ],
   "source": [
    "inv_dict(dict)"
   ]
  },
  {
   "cell_type": "code",
   "execution_count": 5,
   "id": "0556e6b9-6c3a-4631-9daf-2d54d37e521e",
   "metadata": {},
   "outputs": [],
   "source": [
    "def row(p,n):\n",
    "    return [i+p//1 for i in range(n)]"
   ]
  },
  {
   "cell_type": "code",
   "execution_count": 6,
   "id": "2b825333-9bf1-4581-bdeb-c7d534897172",
   "metadata": {},
   "outputs": [
    {
     "data": {
      "text/plain": [
       "[10, 11, 12, 13]"
      ]
     },
     "execution_count": 6,
     "metadata": {},
     "output_type": "execute_result"
    }
   ],
   "source": [
    "row(10,4)"
   ]
  },
  {
   "cell_type": "code",
   "execution_count": 10,
   "id": "b803f15e-0c61-4073-9df1-65ba4a3101ec",
   "metadata": {},
   "outputs": [
    {
     "data": {
      "text/plain": [
       "[[0, 1, 2, 3, 4, 5, 6, 7, 8, 9],\n",
       " [1, 2, 3, 4, 5, 6, 7, 8, 9, 10],\n",
       " [2, 3, 4, 5, 6, 7, 8, 9, 10, 11],\n",
       " [3, 4, 5, 6, 7, 8, 9, 10, 11, 12],\n",
       " [4, 5, 6, 7, 8, 9, 10, 11, 12, 13]]"
      ]
     },
     "execution_count": 10,
     "metadata": {},
     "output_type": "execute_result"
    }
   ],
   "source": [
    "[row(p,10) for p in range(5)]"
   ]
  },
  {
   "cell_type": "code",
   "execution_count": 12,
   "id": "12a47d13-659f-458a-a51f-bf7d906a95fd",
   "metadata": {},
   "outputs": [
    {
     "data": {
      "text/plain": [
       "[[0, 1, 2, 3, 4, 5, 6, 7, 8, 9],\n",
       " [1, 2, 3, 4, 5, 6, 7, 8, 9, 10],\n",
       " [2, 3, 4, 5, 6, 7, 8, 9, 10, 11],\n",
       " [3, 4, 5, 6, 7, 8, 9, 10, 11, 12],\n",
       " [4, 5, 6, 7, 8, 9, 10, 11, 12, 13]]"
      ]
     },
     "execution_count": 12,
     "metadata": {},
     "output_type": "execute_result"
    }
   ],
   "source": [
    "[[i+p for i in range(10)] for p in range(5)]"
   ]
  }
 ],
 "metadata": {
  "kernelspec": {
   "display_name": "Python 3 (ipykernel)",
   "language": "python",
   "name": "python3"
  },
  "language_info": {
   "codemirror_mode": {
    "name": "ipython",
    "version": 3
   },
   "file_extension": ".py",
   "mimetype": "text/x-python",
   "name": "python",
   "nbconvert_exporter": "python",
   "pygments_lexer": "ipython3",
   "version": "3.9.2"
  }
 },
 "nbformat": 4,
 "nbformat_minor": 5
}
