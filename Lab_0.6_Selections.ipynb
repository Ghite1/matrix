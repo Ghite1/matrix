{
 "cells": [
  {
   "cell_type": "code",
   "execution_count": 2,
   "id": "345c97a8-7c72-4ab4-ba3e-34cb30878823",
   "metadata": {},
   "outputs": [],
   "source": [
    "from random import randint"
   ]
  },
  {
   "cell_type": "code",
   "execution_count": 3,
   "id": "451c3494-9309-45b9-ae0b-0a45e921565c",
   "metadata": {},
   "outputs": [],
   "source": [
    "Tomatoes=['See it', 'A Gem', 'Mid', 'Based', 'Poggers', 'Bussin', 'LMFAO', \"I'm a Simp For This Movie\", 'Ookie Spooky', 'Totally Skibidi', 'Worth a Dab','Hella Dank', 'The Goat', 'Absolutely Drippy', 'Hits Different', 'Let Him Cook Now', \"It's Giving....... Litty\"]"
   ]
  },
  {
   "cell_type": "code",
   "execution_count": 4,
   "id": "3015ddb6-1a35-4ed4-a868-b811749cc37b",
   "metadata": {},
   "outputs": [],
   "source": [
    "def Movie_Review(name): return(Tomatoes[randint(0,len(Tomatoes)-1)])"
   ]
  },
  {
   "cell_type": "code",
   "execution_count": 30,
   "id": "de872b68-96cc-4202-8cee-5faf1fd88680",
   "metadata": {},
   "outputs": [
    {
     "data": {
      "text/plain": [
       "'Bussin'"
      ]
     },
     "execution_count": 30,
     "metadata": {},
     "output_type": "execute_result"
    }
   ],
   "source": [
    "Movie_Review('airplane')"
   ]
  },
  {
   "cell_type": "code",
   "execution_count": null,
   "id": "9882b90e-fa4d-44c9-86a9-18672a7de1a2",
   "metadata": {},
   "outputs": [],
   "source": []
  }
 ],
 "metadata": {
  "kernelspec": {
   "display_name": "Python 3 (ipykernel)",
   "language": "python",
   "name": "python3"
  },
  "language_info": {
   "codemirror_mode": {
    "name": "ipython",
    "version": 3
   },
   "file_extension": ".py",
   "mimetype": "text/x-python",
   "name": "python",
   "nbconvert_exporter": "python",
   "pygments_lexer": "ipython3",
   "version": "3.9.2"
  }
 },
 "nbformat": 4,
 "nbformat_minor": 5
}
