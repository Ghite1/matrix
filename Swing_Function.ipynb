{
 "cells": [
  {
   "cell_type": "code",
   "execution_count": 5,
   "id": "e754e9d6-de2a-4099-9384-5dfab7ba7279",
   "metadata": {},
   "outputs": [],
   "source": [
    "from random import randint"
   ]
  },
  {
   "cell_type": "code",
   "execution_count": 8,
   "id": "aa4e4c53-4071-4163-bf65-4970607e2a34",
   "metadata": {},
   "outputs": [],
   "source": [
    "def swing(atk,blk,pwr,tou):\n",
    "    if randint(1,20)+atk>blk+randint(1,10):\n",
    "        return pwr+randint(0,10)-(tou+randint(0,5))\n",
    "    else: return 0"
   ]
  },
  {
   "cell_type": "code",
   "execution_count": 12,
   "id": "611727ab-ad38-44b9-8386-5000ca5086a1",
   "metadata": {},
   "outputs": [
    {
     "data": {
      "text/plain": [
       "6"
      ]
     },
     "execution_count": 12,
     "metadata": {},
     "output_type": "execute_result"
    }
   ],
   "source": [
    "swing(10,8,12,10)"
   ]
  },
  {
   "cell_type": "code",
   "execution_count": null,
   "id": "8617a407-18f2-4315-862e-f552d300fa24",
   "metadata": {},
   "outputs": [],
   "source": []
  }
 ],
 "metadata": {
  "kernelspec": {
   "display_name": "Python 3 (ipykernel)",
   "language": "python",
   "name": "python3"
  },
  "language_info": {
   "codemirror_mode": {
    "name": "ipython",
    "version": 3
   },
   "file_extension": ".py",
   "mimetype": "text/x-python",
   "name": "python",
   "nbconvert_exporter": "python",
   "pygments_lexer": "ipython3",
   "version": "3.9.2"
  }
 },
 "nbformat": 4,
 "nbformat_minor": 5
}
