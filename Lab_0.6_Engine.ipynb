{
 "cells": [
  {
   "cell_type": "code",
   "execution_count": 1,
   "id": "75581721-e441-4323-8ab4-e2b1a103fb24",
   "metadata": {},
   "outputs": [],
   "source": [
    "A = 'Do You Know This Wild Child'\n",
    "B = 'Does This Wind Cause The Cancer'\n",
    "C = 'This Movie About The Wild West Goes Hard'\n",
    "D = 'James, While John Had Had \"Had\", Had Had \"Had Had\", \"Had Had\" Had Had A Better Effect On The Teacher'\n",
    "E = 'This Woman Ran West To Know Her Child'\n",
    "Dlist = [A,B,C,D,E]"
   ]
  },
  {
   "cell_type": "code",
   "execution_count": 2,
   "id": "e3806ec4-d555-4a3d-a0a0-af9b5b116fdf",
   "metadata": {},
   "outputs": [],
   "source": [
    "def makeInverseIndex(strlist):\n",
    "    d = {}\n",
    "    for (words,i) in [(s.split(),i) for i,s in list(enumerate(Dlist))]:\n",
    "        for w in words:\n",
    "            if w not in d:\n",
    "                d[w] = {i}\n",
    "            else:\n",
    "                d[w].add(i)\n",
    "    return d"
   ]
  },
  {
   "cell_type": "code",
   "execution_count": 3,
   "id": "0287ce84-8629-4610-9efd-0055c0fe7a7d",
   "metadata": {},
   "outputs": [
    {
     "data": {
      "text/plain": [
       "{'Do': {0},\n",
       " 'You': {0},\n",
       " 'Know': {0, 4},\n",
       " 'This': {0, 1, 2, 4},\n",
       " 'Wild': {0, 2},\n",
       " 'Child': {0, 4},\n",
       " 'Does': {1},\n",
       " 'Wind': {1},\n",
       " 'Cause': {1},\n",
       " 'The': {1, 2, 3},\n",
       " 'Cancer': {1},\n",
       " 'Movie': {2},\n",
       " 'About': {2},\n",
       " 'West': {2, 4},\n",
       " 'Goes': {2},\n",
       " 'Hard': {2},\n",
       " 'James,': {3},\n",
       " 'While': {3},\n",
       " 'John': {3},\n",
       " 'Had': {3},\n",
       " '\"Had\",': {3},\n",
       " '\"Had': {3},\n",
       " 'Had\",': {3},\n",
       " 'Had\"': {3},\n",
       " 'A': {3},\n",
       " 'Better': {3},\n",
       " 'Effect': {3},\n",
       " 'On': {3},\n",
       " 'Teacher': {3},\n",
       " 'Woman': {4},\n",
       " 'Ran': {4},\n",
       " 'To': {4},\n",
       " 'Her': {4}}"
      ]
     },
     "execution_count": 3,
     "metadata": {},
     "output_type": "execute_result"
    }
   ],
   "source": [
    "makeInverseIndex(Dlist)"
   ]
  },
  {
   "cell_type": "code",
   "execution_count": 180,
   "id": "86b19a02-2481-4a3e-aa77-fe7025218982",
   "metadata": {},
   "outputs": [],
   "source": [
    "q = ['To', 'Kill', 'A', 'Cancer', 'Cell']\n",
    "# {1,3,4}"
   ]
  },
  {
   "cell_type": "code",
   "execution_count": 98,
   "id": "f4fa17b0-cee9-4f0d-8ae8-ea518dd54a1f",
   "metadata": {},
   "outputs": [],
   "source": [
    "def orSearch(inverseIndex, query):\n",
    "    # return set of indices of documents containing any words in query\n",
    "    X = set({})\n",
    "    for v in query:\n",
    "        for w in inverseIndex.keys():\n",
    "            if v == w:\n",
    "                X = (X|inverseIndex[w])\n",
    "    return(X)"
   ]
  },
  {
   "cell_type": "code",
   "execution_count": 32,
   "id": "f1ccae09-6129-41e6-85d2-0cc070309c85",
   "metadata": {},
   "outputs": [
    {
     "data": {
      "text/plain": [
       "{1, 3, 4}"
      ]
     },
     "execution_count": 32,
     "metadata": {},
     "output_type": "execute_result"
    }
   ],
   "source": [
    "orSearch(makeInverseIndex(Dlist), q)"
   ]
  },
  {
   "cell_type": "code",
   "execution_count": 199,
   "id": "c1aff909-86d0-4b30-9077-9d30a1bdd009",
   "metadata": {},
   "outputs": [],
   "source": [
    "def andSearch(inverseIndex, query):\n",
    "    # return set of indices of documents containing all words in query\n",
    "    if query[0] in inverseIndex.keys():       \n",
    "        X = inverseIndex[query[0]]\n",
    "        for s in query:\n",
    "            if s in inverseIndex.keys():\n",
    "                X = X&inverseIndex[s]\n",
    "        return X\n",
    "    else:\n",
    "        return set({})"
   ]
  },
  {
   "cell_type": "code",
   "execution_count": 200,
   "id": "51aa0fe2-8b5e-48fa-8ac8-32ff0180155a",
   "metadata": {},
   "outputs": [
    {
     "data": {
      "text/plain": [
       "{0, 2}"
      ]
     },
     "execution_count": 200,
     "metadata": {},
     "output_type": "execute_result"
    }
   ],
   "source": [
    "r = ['This', 'Wild']\n",
    "# {0, 2}\n",
    "andSearch(makeInverseIndex(Dlist), r)"
   ]
  },
  {
   "cell_type": "code",
   "execution_count": 201,
   "id": "06b835a9-639f-4b82-b07a-f2938452faf3",
   "metadata": {},
   "outputs": [
    {
     "data": {
      "text/plain": [
       "set()"
      ]
     },
     "execution_count": 201,
     "metadata": {},
     "output_type": "execute_result"
    }
   ],
   "source": [
    "hundobills = ['Money', 'Money', 'I', 'Got', 'Money']\n",
    "# set()\n",
    "andSearch(makeInverseIndex(Dlist), hundobills)"
   ]
  },
  {
   "cell_type": "code",
   "execution_count": 202,
   "id": "b80588c0-4199-4453-94d2-3274a6c5c070",
   "metadata": {},
   "outputs": [
    {
     "data": {
      "text/plain": [
       "{4}"
      ]
     },
     "execution_count": 202,
     "metadata": {},
     "output_type": "execute_result"
    }
   ],
   "source": [
    "movietimes = ['West', 'To', 'Child']\n",
    "# {4}\n",
    "andSearch(makeInverseIndex(Dlist), movietimes)"
   ]
  }
 ],
 "metadata": {
  "kernelspec": {
   "display_name": "Python 3 (ipykernel)",
   "language": "python",
   "name": "python3"
  },
  "language_info": {
   "codemirror_mode": {
    "name": "ipython",
    "version": 3
   },
   "file_extension": ".py",
   "mimetype": "text/x-python",
   "name": "python",
   "nbconvert_exporter": "python",
   "pygments_lexer": "ipython3",
   "version": "3.9.2"
  }
 },
 "nbformat": 4,
 "nbformat_minor": 5
}
